{
 "cells": [
  {
   "cell_type": "code",
   "execution_count": 117,
   "id": "e6b5e7ef",
   "metadata": {},
   "outputs": [],
   "source": [
    "import pandas as pd\n",
    "from sklearn.model_selection import train_test_split, GridSearchCV\n",
    "from sklearn.metrics import mean_squared_error, r2_score\n",
    "from lightgbm import LGBMRegressor\n",
    "from sklearn.linear_model import LinearRegression, Ridge, Lasso, ElasticNet\n",
    "from sklearn.ensemble import RandomForestRegressor\n",
    "from xgboost import XGBRegressor\n",
    "from sklearn.linear_model import LinearRegression\n",
    "\n",
    "\n",
    "# json 문자 삭제\n",
    "import re\n"
   ]
  },
  {
   "cell_type": "code",
   "execution_count": 118,
   "id": "bb51ca32",
   "metadata": {},
   "outputs": [],
   "source": [
    "def drop_columns(df):\n",
    "    columns_to_drop = ['날짜', '구분', '경기(행사)내용', '시설명', '지역', '인근_역', 'quantile']\n",
    "    df = df.drop(columns=columns_to_drop)\n",
    "    return df"
   ]
  },
  {
   "cell_type": "code",
   "execution_count": 119,
   "id": "998be937",
   "metadata": {},
   "outputs": [],
   "source": [
    "df = pd.read_csv('oversampled_dataset.csv', encoding='cp949',index_col=0)"
   ]
  },
  {
   "cell_type": "code",
   "execution_count": 120,
   "id": "4a8e4fa5",
   "metadata": {},
   "outputs": [],
   "source": [
    "df = drop_columns(df)"
   ]
  },
  {
   "cell_type": "code",
   "execution_count": 121,
   "id": "9597addc",
   "metadata": {},
   "outputs": [],
   "source": [
    "def remove_pattern(text):\n",
    "    if isinstance(text, str):  \n",
    "        pattern = r'\\([^)]*\\)'\n",
    "        return re.sub(pattern, '', text)\n",
    "    else:\n",
    "        return text\n",
    "\n",
    "df.columns = df.columns.map(remove_pattern)"
   ]
  },
  {
   "cell_type": "code",
   "execution_count": 122,
   "id": "c985852d",
   "metadata": {},
   "outputs": [
    {
     "data": {
      "text/html": [
       "<div>\n",
       "<style scoped>\n",
       "    .dataframe tbody tr th:only-of-type {\n",
       "        vertical-align: middle;\n",
       "    }\n",
       "\n",
       "    .dataframe tbody tr th {\n",
       "        vertical-align: top;\n",
       "    }\n",
       "\n",
       "    .dataframe thead th {\n",
       "        text-align: right;\n",
       "    }\n",
       "</style>\n",
       "<table border=\"1\" class=\"dataframe\">\n",
       "  <thead>\n",
       "    <tr style=\"text-align: right;\">\n",
       "      <th></th>\n",
       "      <th>관람인원</th>\n",
       "      <th>사용일수</th>\n",
       "      <th>강수량</th>\n",
       "      <th>평균기온</th>\n",
       "      <th>좌석수</th>\n",
       "      <th>좌석점유율</th>\n",
       "      <th>주말 여부</th>\n",
       "      <th>합계_승차</th>\n",
       "      <th>미세먼지.mean</th>\n",
       "      <th>초미세먼지.mean</th>\n",
       "    </tr>\n",
       "  </thead>\n",
       "  <tbody>\n",
       "    <tr>\n",
       "      <th>0</th>\n",
       "      <td>1000</td>\n",
       "      <td>1</td>\n",
       "      <td>0.000000</td>\n",
       "      <td>14.900000</td>\n",
       "      <td>5003</td>\n",
       "      <td>19.990000</td>\n",
       "      <td>1</td>\n",
       "      <td>6146</td>\n",
       "      <td>39.600000</td>\n",
       "      <td>17.500000</td>\n",
       "    </tr>\n",
       "    <tr>\n",
       "      <th>1</th>\n",
       "      <td>15246</td>\n",
       "      <td>6</td>\n",
       "      <td>0.000000</td>\n",
       "      <td>15.900000</td>\n",
       "      <td>11000</td>\n",
       "      <td>22.860000</td>\n",
       "      <td>1</td>\n",
       "      <td>13492</td>\n",
       "      <td>65.800000</td>\n",
       "      <td>28.700000</td>\n",
       "    </tr>\n",
       "    <tr>\n",
       "      <th>2</th>\n",
       "      <td>17782</td>\n",
       "      <td>6</td>\n",
       "      <td>0.000000</td>\n",
       "      <td>17.600000</td>\n",
       "      <td>11000</td>\n",
       "      <td>26.660000</td>\n",
       "      <td>1</td>\n",
       "      <td>12518</td>\n",
       "      <td>50.000000</td>\n",
       "      <td>28.800000</td>\n",
       "    </tr>\n",
       "    <tr>\n",
       "      <th>3</th>\n",
       "      <td>928</td>\n",
       "      <td>5</td>\n",
       "      <td>0.000000</td>\n",
       "      <td>20.600000</td>\n",
       "      <td>1473</td>\n",
       "      <td>65.630000</td>\n",
       "      <td>1</td>\n",
       "      <td>13131</td>\n",
       "      <td>33.600000</td>\n",
       "      <td>19.800000</td>\n",
       "    </tr>\n",
       "    <tr>\n",
       "      <th>4</th>\n",
       "      <td>4000</td>\n",
       "      <td>3</td>\n",
       "      <td>3.000000</td>\n",
       "      <td>24.800000</td>\n",
       "      <td>15000</td>\n",
       "      <td>8.890000</td>\n",
       "      <td>0</td>\n",
       "      <td>5679</td>\n",
       "      <td>19.900000</td>\n",
       "      <td>10.500000</td>\n",
       "    </tr>\n",
       "    <tr>\n",
       "      <th>...</th>\n",
       "      <td>...</td>\n",
       "      <td>...</td>\n",
       "      <td>...</td>\n",
       "      <td>...</td>\n",
       "      <td>...</td>\n",
       "      <td>...</td>\n",
       "      <td>...</td>\n",
       "      <td>...</td>\n",
       "      <td>...</td>\n",
       "      <td>...</td>\n",
       "    </tr>\n",
       "    <tr>\n",
       "      <th>443</th>\n",
       "      <td>1285</td>\n",
       "      <td>7</td>\n",
       "      <td>0.000000</td>\n",
       "      <td>15.637079</td>\n",
       "      <td>1473</td>\n",
       "      <td>72.223684</td>\n",
       "      <td>1</td>\n",
       "      <td>11532</td>\n",
       "      <td>43.891901</td>\n",
       "      <td>23.882515</td>\n",
       "    </tr>\n",
       "    <tr>\n",
       "      <th>444</th>\n",
       "      <td>928</td>\n",
       "      <td>5</td>\n",
       "      <td>0.000000</td>\n",
       "      <td>15.978967</td>\n",
       "      <td>1473</td>\n",
       "      <td>71.385858</td>\n",
       "      <td>1</td>\n",
       "      <td>12533</td>\n",
       "      <td>32.594061</td>\n",
       "      <td>18.102478</td>\n",
       "    </tr>\n",
       "    <tr>\n",
       "      <th>445</th>\n",
       "      <td>928</td>\n",
       "      <td>7</td>\n",
       "      <td>0.000000</td>\n",
       "      <td>20.549143</td>\n",
       "      <td>1473</td>\n",
       "      <td>68.472910</td>\n",
       "      <td>1</td>\n",
       "      <td>12282</td>\n",
       "      <td>33.040572</td>\n",
       "      <td>17.969146</td>\n",
       "    </tr>\n",
       "    <tr>\n",
       "      <th>446</th>\n",
       "      <td>910</td>\n",
       "      <td>7</td>\n",
       "      <td>29.051371</td>\n",
       "      <td>15.392392</td>\n",
       "      <td>1391</td>\n",
       "      <td>66.293799</td>\n",
       "      <td>1</td>\n",
       "      <td>10189</td>\n",
       "      <td>18.728343</td>\n",
       "      <td>16.553619</td>\n",
       "    </tr>\n",
       "    <tr>\n",
       "      <th>447</th>\n",
       "      <td>407</td>\n",
       "      <td>2</td>\n",
       "      <td>3.002831</td>\n",
       "      <td>8.365162</td>\n",
       "      <td>644</td>\n",
       "      <td>66.235274</td>\n",
       "      <td>1</td>\n",
       "      <td>4685</td>\n",
       "      <td>47.362881</td>\n",
       "      <td>28.911041</td>\n",
       "    </tr>\n",
       "  </tbody>\n",
       "</table>\n",
       "<p>448 rows × 10 columns</p>\n",
       "</div>"
      ],
      "text/plain": [
       "      관람인원  사용일수        강수량       평균기온    좌석수      좌석점유율  주말 여부  합계_승차  \\\n",
       "0     1000     1   0.000000  14.900000   5003  19.990000      1   6146   \n",
       "1    15246     6   0.000000  15.900000  11000  22.860000      1  13492   \n",
       "2    17782     6   0.000000  17.600000  11000  26.660000      1  12518   \n",
       "3      928     5   0.000000  20.600000   1473  65.630000      1  13131   \n",
       "4     4000     3   3.000000  24.800000  15000   8.890000      0   5679   \n",
       "..     ...   ...        ...        ...    ...        ...    ...    ...   \n",
       "443   1285     7   0.000000  15.637079   1473  72.223684      1  11532   \n",
       "444    928     5   0.000000  15.978967   1473  71.385858      1  12533   \n",
       "445    928     7   0.000000  20.549143   1473  68.472910      1  12282   \n",
       "446    910     7  29.051371  15.392392   1391  66.293799      1  10189   \n",
       "447    407     2   3.002831   8.365162    644  66.235274      1   4685   \n",
       "\n",
       "     미세먼지.mean  초미세먼지.mean  \n",
       "0    39.600000   17.500000  \n",
       "1    65.800000   28.700000  \n",
       "2    50.000000   28.800000  \n",
       "3    33.600000   19.800000  \n",
       "4    19.900000   10.500000  \n",
       "..         ...         ...  \n",
       "443  43.891901   23.882515  \n",
       "444  32.594061   18.102478  \n",
       "445  33.040572   17.969146  \n",
       "446  18.728343   16.553619  \n",
       "447  47.362881   28.911041  \n",
       "\n",
       "[448 rows x 10 columns]"
      ]
     },
     "execution_count": 122,
     "metadata": {},
     "output_type": "execute_result"
    }
   ],
   "source": [
    "df"
   ]
  },
  {
   "cell_type": "code",
   "execution_count": 123,
   "id": "de8a49c8",
   "metadata": {},
   "outputs": [],
   "source": [
    "# training and test\n",
    "X = df.drop('좌석점유율', axis=1)\n",
    "y = df['좌석점유율']\n",
    "\n",
    "# test size 설정\n",
    "X_train, X_test, y_train, y_test = train_test_split(X, y, test_size=0.2, random_state=42)\n"
   ]
  },
  {
   "cell_type": "code",
   "execution_count": 124,
   "id": "fcedc38a",
   "metadata": {},
   "outputs": [
    {
     "name": "stdout",
     "output_type": "stream",
     "text": [
      "LightGBM Best Parameters: {'learning_rate': 0.1, 'max_depth': 5, 'min_child_samples': 20, 'n_estimators': 300, 'subsample': 0.8}\n",
      "LightGBM RMSE: 5.824954574321796\n",
      "R제곱 (Variance Score) : 0.943\n"
     ]
    }
   ],
   "source": [
    "# LightGBM \n",
    "lgbm_model = LGBMRegressor()\n",
    "\n",
    "# LightGBM 파라미터 그리드\n",
    "lgbm_params = {\n",
    "    'n_estimators': [100, 200, 300],\n",
    "    'learning_rate': [0.1, 0.05, 0.01],\n",
    "    'max_depth': [5, 10, 20],\n",
    "    'min_child_samples': [20, 50, 100],\n",
    "    'subsample': [0.8, 1.0]\n",
    "}\n",
    "\n",
    "# LightGBM 그리드 서치\n",
    "lgbm_grid_search = GridSearchCV(estimator=lgbm_model, param_grid=lgbm_params, scoring='neg_mean_squared_error', cv=5)\n",
    "lgbm_grid_search.fit(X_train, y_train)\n",
    "lgbm_best_params = lgbm_grid_search.best_params_\n",
    "lgbm_best_model = lgbm_grid_search.best_estimator_\n",
    "\n",
    "lgbm_best_model.fit(X_train, y_train)\n",
    "lgbm_pred = lgbm_best_model.predict(X_test)\n",
    "lgbm_rmse = mean_squared_error(y_test, lgbm_pred, squared=False)\n",
    "\n",
    "\n",
    "\n",
    "print(\"LightGBM Best Parameters:\", lgbm_best_params)\n",
    "print(\"LightGBM RMSE:\", lgbm_rmse)\n",
    "print('R제곱 (Variance Score) : {0:.3f}'.format(r2_score(y_test, lgbm_pred)))"
   ]
  },
  {
   "cell_type": "code",
   "execution_count": 125,
   "id": "d03f2d52",
   "metadata": {},
   "outputs": [
    {
     "name": "stdout",
     "output_type": "stream",
     "text": [
      "5 Folds 교차검증 개별 Negative MSE scores: [ -22.13 -105.76  -32.64  -39.68  -38.63]\n",
      "5 Folds 교차검증 개별 RMSE scores: [ 4.7  10.28  5.71  6.3   6.22]\n",
      "5 Folds 교차검증 평균 RMSE: 6.643\n"
     ]
    }
   ],
   "source": [
    "from sklearn.model_selection import cross_val_score\n",
    "import numpy as np\n",
    "\n",
    "# 5-fold 교차 검증으로 MSE 구함\n",
    "neg_mse_scores = cross_val_score(lgbm_best_model, X_train, y_train,\n",
    "                                 scoring='neg_mean_squared_error',\n",
    "                                 cv=5)\n",
    "\n",
    "# neg_mse: 음수값이므로 -1을 곱해서 사용\n",
    "# RMSE는 np.sqrt() 사용\n",
    "rmse_scores = np.sqrt(-1 * neg_mse_scores)\n",
    "avg_rmse = np.mean(rmse_scores)\n",
    "\n",
    "# 평가 지표 출력\n",
    "print('5 Folds 교차검증 개별 Negative MSE scores:', np.round(neg_mse_scores, 2))\n",
    "print('5 Folds 교차검증 개별 RMSE scores:', np.round(rmse_scores, 2))\n",
    "print('5 Folds 교차검증 평균 RMSE:', np.round(avg_rmse, 3))"
   ]
  },
  {
   "cell_type": "code",
   "execution_count": 126,
   "id": "600b75fe",
   "metadata": {},
   "outputs": [
    {
     "name": "stdout",
     "output_type": "stream",
     "text": [
      "XGBoost Best Parameters: {'colsample_bytree': 0.8, 'learning_rate': 0.1, 'max_depth': 5, 'min_child_weight': 1, 'subsample': 0.9}\n",
      "XGBoost RMSE: 5.759016973395443\n",
      "R제곱 (Variance Score) : 0.944\n"
     ]
    }
   ],
   "source": [
    "# XGBoost\n",
    "xgb_model = XGBRegressor()\n",
    "\n",
    "# XGBoost 파라미터 그리드\n",
    "xgb_params = {\n",
    "    'learning_rate': [0.1, 0.01, 0.001],\n",
    "    'max_depth': [3, 5, 7],\n",
    "    'subsample': [0.8, 0.9, 1.0],\n",
    "    'colsample_bytree': [0.8, 0.9, 1.0],\n",
    "    'min_child_weight': [1, 2, 4]\n",
    "}\n",
    "\n",
    "# XGBoost 그리드 서치\n",
    "xgb_grid_search = GridSearchCV(estimator=xgb_model, param_grid=xgb_params, scoring='neg_mean_squared_error', cv=5)\n",
    "xgb_grid_search.fit(X_train, y_train)\n",
    "xgb_best_params = xgb_grid_search.best_params_\n",
    "xgb_best_model = xgb_grid_search.best_estimator_\n",
    "\n",
    "\n",
    "\n",
    "xgb_best_model.fit(X_train, y_train)\n",
    "xgb_pred = xgb_best_model.predict(X_test)\n",
    "xgb_rmse = mean_squared_error(y_test, xgb_pred, squared=False)\n",
    "\n",
    "\n",
    "print(\"XGBoost Best Parameters:\", xgb_best_params)\n",
    "print(\"XGBoost RMSE:\", xgb_rmse)\n",
    "print('R제곱 (Variance Score) : {0:.3f}'.format(r2_score(y_test, xgb_pred)))"
   ]
  },
  {
   "cell_type": "code",
   "execution_count": 127,
   "id": "71069284",
   "metadata": {},
   "outputs": [
    {
     "name": "stdout",
     "output_type": "stream",
     "text": [
      "5 Folds 교차검증 개별 Negative MSE scores: [-13.26 -43.76 -44.34 -17.72 -55.84]\n",
      "5 Folds 교차검증 개별 RMSE scores: [3.64 6.62 6.66 4.21 7.47]\n",
      "5 Folds 교차검증 평균 RMSE: 5.72\n"
     ]
    }
   ],
   "source": [
    "# 5-fold 교차 검증으로 MSE 구함\n",
    "neg_mse_scores = cross_val_score(xgb_best_model, X_train, y_train,\n",
    "                                 scoring='neg_mean_squared_error',\n",
    "                                 cv=5)\n",
    "\n",
    "# neg_mse: 음수값이므로 -1을 곱해서 사용\n",
    "# RMSE는 np.sqrt() 사용\n",
    "rmse_scores = np.sqrt(-1 * neg_mse_scores)\n",
    "avg_rmse = np.mean(rmse_scores)\n",
    "\n",
    "# 평가 지표 출력\n",
    "print('5 Folds 교차검증 개별 Negative MSE scores:', np.round(neg_mse_scores, 2))\n",
    "print('5 Folds 교차검증 개별 RMSE scores:', np.round(rmse_scores, 2))\n",
    "print('5 Folds 교차검증 평균 RMSE:', np.round(avg_rmse, 3))"
   ]
  },
  {
   "cell_type": "code",
   "execution_count": 128,
   "id": "e6c14ec5",
   "metadata": {},
   "outputs": [
    {
     "name": "stdout",
     "output_type": "stream",
     "text": [
      "선형 회귀 Best Parameters: {'fit_intercept': True}\n",
      "선형 회귀 RMSE: 16.52285948194996\n",
      "R제곱 (Variance Score) : 0.541\n"
     ]
    }
   ],
   "source": [
    "\n",
    "# 선형 회귀 모델 생성\n",
    "lr_model = LinearRegression()\n",
    "\n",
    "# 하이퍼파라미터 그리드 설정\n",
    "param_grid = {\n",
    "    'fit_intercept': [True, False]\n",
    "}\n",
    "\n",
    "# 그리드 서치를 통한 최적의 파라미터 탐색\n",
    "grid_search = GridSearchCV(estimator=lr_model, param_grid=param_grid, scoring='neg_mean_squared_error', cv=5)\n",
    "grid_search.fit(X_train, y_train)\n",
    "\n",
    "# 최적의 파라미터 확인\n",
    "best_params = grid_search.best_params_\n",
    "\n",
    "# 최적의 파라미터로 모델 재학습\n",
    "best_model = grid_search.best_estimator_\n",
    "best_model.fit(X_train, y_train)\n",
    "\n",
    "# 테스트 데이터에 대한 예측\n",
    "lr_pred = best_model.predict(X_test)\n",
    "\n",
    "# 평가 지표 계산\n",
    "lr_rmse = mean_squared_error(y_test, lr_pred, squared=False)\n",
    "\n",
    "print(\"선형 회귀 Best Parameters:\", best_params)\n",
    "print(\"선형 회귀 RMSE:\", lr_rmse)\n",
    "print('R제곱 (Variance Score) : {0:.3f}'.format(r2_score(y_test, lr_pred)))"
   ]
  },
  {
   "cell_type": "code",
   "execution_count": 129,
   "id": "576d08bf",
   "metadata": {},
   "outputs": [
    {
     "name": "stdout",
     "output_type": "stream",
     "text": [
      "5 Folds 교차검증 개별 Negative MSE scores: [-282.58 -459.48 -214.68 -252.23 -242.73]\n",
      "5 Folds 교차검증 개별 RMSE scores: [16.81 21.44 14.65 15.88 15.58]\n",
      "5 Folds 교차검증 평균 RMSE: 16.872\n"
     ]
    }
   ],
   "source": [
    "# 5-fold 교차 검증으로 MSE 구함\n",
    "neg_mse_scores = cross_val_score(best_model, X_train, y_train,\n",
    "                                 scoring='neg_mean_squared_error',\n",
    "                                 cv=5)\n",
    "\n",
    "# neg_mse: 음수값이므로 -1을 곱해서 사용\n",
    "# RMSE는 np.sqrt() 사용\n",
    "rmse_scores = np.sqrt(-1 * neg_mse_scores)\n",
    "avg_rmse = np.mean(rmse_scores)\n",
    "\n",
    "# 평가 지표 출력\n",
    "print('5 Folds 교차검증 개별 Negative MSE scores:', np.round(neg_mse_scores, 2))\n",
    "print('5 Folds 교차검증 개별 RMSE scores:', np.round(rmse_scores, 2))\n",
    "print('5 Folds 교차검증 평균 RMSE:', np.round(avg_rmse, 3))"
   ]
  },
  {
   "cell_type": "code",
   "execution_count": 130,
   "id": "a6524f7c",
   "metadata": {},
   "outputs": [],
   "source": [
    "import warnings\n",
    "warnings.filterwarnings(action='ignore')"
   ]
  },
  {
   "cell_type": "code",
   "execution_count": 131,
   "id": "d99c3ebc",
   "metadata": {},
   "outputs": [
    {
     "name": "stdout",
     "output_type": "stream",
     "text": [
      "Random Forest Best Parameters: {'max_depth': None, 'max_features': 'sqrt', 'n_estimators': 1000}\n",
      "Random Forest RMSE: 6.839203650475674\n",
      "R제곱 (Variance Score) : 0.921\n"
     ]
    }
   ],
   "source": [
    "# Random Forest\n",
    "rf_model = RandomForestRegressor()\n",
    "\n",
    "# Random Forest 파라미터 그리드\n",
    "rf_params = {\n",
    "    'n_estimators': [100, 500, 1000],\n",
    "    'max_features': ['auto', 'sqrt'],\n",
    "    'max_depth': [None, 5, 10],\n",
    "}\n",
    "\n",
    "# Random Forest 그리드 서치\n",
    "rf_grid_search = GridSearchCV(estimator=rf_model, param_grid=rf_params, scoring='neg_mean_squared_error', cv=5)\n",
    "rf_grid_search.fit(X_train, y_train)\n",
    "rf_best_params = rf_grid_search.best_params_\n",
    "rf_best_model = rf_grid_search.best_estimator_\n",
    "\n",
    "rf_best_model.fit(X_train, y_train)\n",
    "rf_pred = rf_best_model.predict(X_test)\n",
    "rf_rmse = mean_squared_error(y_test, rf_pred, squared=False)\n",
    "\n",
    "print(\"Random Forest Best Parameters:\", rf_best_params)\n",
    "print(\"Random Forest RMSE:\", rf_rmse)\n",
    "print('R제곱 (Variance Score) : {0:.3f}'.format(r2_score(y_test, rf_pred)))"
   ]
  },
  {
   "cell_type": "code",
   "execution_count": 132,
   "id": "dd01d8f2",
   "metadata": {},
   "outputs": [
    {
     "name": "stdout",
     "output_type": "stream",
     "text": [
      "5 Folds 교차검증 개별 Negative MSE scores: [-30.72 -84.77 -43.47 -29.84 -60.39]\n",
      "5 Folds 교차검증 개별 RMSE scores: [5.54 9.21 6.59 5.46 7.77]\n",
      "5 Folds 교차검증 평균 RMSE: 6.915\n"
     ]
    }
   ],
   "source": [
    "# 5-fold 교차 검증으로 MSE 구함\n",
    "neg_mse_scores = cross_val_score(rf_best_model, X_train, y_train,\n",
    "                                 scoring='neg_mean_squared_error',\n",
    "                                 cv=5)\n",
    "\n",
    "# neg_mse: 음수값이므로 -1을 곱해서 사용\n",
    "# RMSE는 np.sqrt() 사용\n",
    "rmse_scores = np.sqrt(-1 * neg_mse_scores)\n",
    "avg_rmse = np.mean(rmse_scores)\n",
    "\n",
    "# 평가 지표 출력\n",
    "print('5 Folds 교차검증 개별 Negative MSE scores:', np.round(neg_mse_scores, 2))\n",
    "print('5 Folds 교차검증 개별 RMSE scores:', np.round(rmse_scores, 2))\n",
    "print('5 Folds 교차검증 평균 RMSE:', np.round(avg_rmse, 3))"
   ]
  },
  {
   "cell_type": "code",
   "execution_count": 133,
   "id": "c76eebd8",
   "metadata": {},
   "outputs": [
    {
     "name": "stdout",
     "output_type": "stream",
     "text": [
      "Ridge 회귀 Best Parameters: {'alpha': 10, 'fit_intercept': True}\n",
      "Ridge 회귀 RMSE: 16.516993360736116\n",
      "R제곱 (Variance Score) : 0.541\n"
     ]
    }
   ],
   "source": [
    "\n",
    "# Ridge 회귀\n",
    "ridge_model = Ridge()\n",
    "ridge_params = {\n",
    "    'alpha': [0.1, 1, 10],\n",
    "    'fit_intercept': [True, False]\n",
    "}\n",
    "ridge_grid_search = GridSearchCV(estimator=ridge_model, param_grid=ridge_params, scoring='neg_mean_squared_error', cv=5)\n",
    "ridge_grid_search.fit(X_train, y_train)\n",
    "ridge_best_params = ridge_grid_search.best_params_\n",
    "ridge_best_model = ridge_grid_search.best_estimator_\n",
    "ridge_best_model.fit(X_train, y_train)\n",
    "ridge_pred = ridge_best_model.predict(X_test)\n",
    "ridge_rmse = mean_squared_error(y_test, ridge_pred, squared=False)\n",
    "\n",
    "print(\"Ridge 회귀 Best Parameters:\", ridge_best_params)\n",
    "print(\"Ridge 회귀 RMSE:\", ridge_rmse)\n",
    "print('R제곱 (Variance Score) : {0:.3f}'.format(r2_score(y_test, ridge_pred)))"
   ]
  },
  {
   "cell_type": "code",
   "execution_count": 134,
   "id": "b0eb9744",
   "metadata": {},
   "outputs": [
    {
     "name": "stdout",
     "output_type": "stream",
     "text": [
      "5 Folds 교차검증 개별 Negative MSE scores: [-282.58 -460.1  -213.95 -252.31 -242.01]\n",
      "5 Folds 교차검증 개별 RMSE scores: [16.81 21.45 14.63 15.88 15.56]\n",
      "5 Folds 교차검증 평균 RMSE: 16.866\n"
     ]
    }
   ],
   "source": [
    "# 5-fold 교차 검증으로 MSE 구함\n",
    "neg_mse_scores = cross_val_score(ridge_best_model, X_train, y_train,\n",
    "                                 scoring='neg_mean_squared_error',\n",
    "                                 cv=5)\n",
    "\n",
    "# neg_mse: 음수값이므로 -1을 곱해서 사용\n",
    "# RMSE는 np.sqrt() 사용\n",
    "rmse_scores = np.sqrt(-1 * neg_mse_scores)\n",
    "avg_rmse = np.mean(rmse_scores)\n",
    "\n",
    "# 평가 지표 출력\n",
    "print('5 Folds 교차검증 개별 Negative MSE scores:', np.round(neg_mse_scores, 2))\n",
    "print('5 Folds 교차검증 개별 RMSE scores:', np.round(rmse_scores, 2))\n",
    "print('5 Folds 교차검증 평균 RMSE:', np.round(avg_rmse, 3))"
   ]
  },
  {
   "cell_type": "code",
   "execution_count": 135,
   "id": "9ab021d5",
   "metadata": {},
   "outputs": [
    {
     "name": "stdout",
     "output_type": "stream",
     "text": [
      "Lasso 회귀 Best Parameters: {'alpha': 0.1, 'fit_intercept': True}\n",
      "Lasso 회귀 RMSE: 16.516615459636377\n",
      "R제곱 (Variance Score) : 0.542\n"
     ]
    }
   ],
   "source": [
    "# Lasso 회귀\n",
    "lasso_model = Lasso()\n",
    "lasso_params = {\n",
    "    'alpha': [0.1, 1, 10],\n",
    "    'fit_intercept': [True, False]\n",
    "}\n",
    "lasso_grid_search = GridSearchCV(estimator=lasso_model, param_grid=lasso_params, scoring='neg_mean_squared_error', cv=5)\n",
    "lasso_grid_search.fit(X_train, y_train)\n",
    "lasso_best_params = lasso_grid_search.best_params_\n",
    "lasso_best_model = lasso_grid_search.best_estimator_\n",
    "lasso_best_model.fit(X_train, y_train)\n",
    "lasso_pred = lasso_best_model.predict(X_test)\n",
    "lasso_rmse = mean_squared_error(y_test, lasso_pred, squared=False)\n",
    "\n",
    "print(\"Lasso 회귀 Best Parameters:\", lasso_best_params)\n",
    "print(\"Lasso 회귀 RMSE:\", lasso_rmse)\n",
    "print('R제곱 (Variance Score) : {0:.3f}'.format(r2_score(y_test, lasso_pred)))"
   ]
  },
  {
   "cell_type": "code",
   "execution_count": 136,
   "id": "5c648962",
   "metadata": {},
   "outputs": [
    {
     "name": "stdout",
     "output_type": "stream",
     "text": [
      "5 Folds 교차검증 개별 Negative MSE scores: [-282.9  -461.39 -213.89 -252.3  -241.9 ]\n",
      "5 Folds 교차검증 개별 RMSE scores: [16.82 21.48 14.62 15.88 15.55]\n",
      "5 Folds 교차검증 평균 RMSE: 16.872\n"
     ]
    }
   ],
   "source": [
    "# 5-fold 교차 검증으로 MSE 구함\n",
    "neg_mse_scores = cross_val_score(lasso_best_model, X_train, y_train,\n",
    "                                 scoring='neg_mean_squared_error',\n",
    "                                 cv=5)\n",
    "\n",
    "# neg_mse: 음수값이므로 -1을 곱해서 사용\n",
    "# RMSE는 np.sqrt() 사용\n",
    "rmse_scores = np.sqrt(-1 * neg_mse_scores)\n",
    "avg_rmse = np.mean(rmse_scores)\n",
    "\n",
    "# 평가 지표 출력\n",
    "print('5 Folds 교차검증 개별 Negative MSE scores:', np.round(neg_mse_scores, 2))\n",
    "print('5 Folds 교차검증 개별 RMSE scores:', np.round(rmse_scores, 2))\n",
    "print('5 Folds 교차검증 평균 RMSE:', np.round(avg_rmse, 3))"
   ]
  },
  {
   "cell_type": "code",
   "execution_count": 137,
   "id": "f989d052",
   "metadata": {},
   "outputs": [
    {
     "name": "stdout",
     "output_type": "stream",
     "text": [
      "ElasticNet 회귀 Best Parameters: {'alpha': 0.1, 'fit_intercept': True, 'l1_ratio': 0.3}\n",
      "ElasticNet 회귀 RMSE: 16.51282080217472\n",
      "R제곱 (Variance Score) : 0.542\n"
     ]
    }
   ],
   "source": [
    "# ElasticNet 회귀\n",
    "elasticnet_model = ElasticNet()\n",
    "elasticnet_params = {\n",
    "    'alpha': [0.1, 1, 10],\n",
    "    'l1_ratio': [0.3, 0.5, 0.7],\n",
    "    'fit_intercept': [True, False]\n",
    "}\n",
    "elasticnet_grid_search = GridSearchCV(estimator=elasticnet_model, param_grid=elasticnet_params, scoring='neg_mean_squared_error', cv=5)\n",
    "elasticnet_grid_search.fit(X_train, y_train)\n",
    "elasticnet_best_params = elasticnet_grid_search.best_params_\n",
    "elasticnet_best_model = elasticnet_grid_search.best_estimator_\n",
    "elasticnet_best_model.fit(X_train, y_train)\n",
    "elasticnet_pred = elasticnet_best_model.predict(X_test)\n",
    "elasticnet_rmse = mean_squared_error(y_test, elasticnet_pred, squared=False)\n",
    "\n",
    "print(\"ElasticNet 회귀 Best Parameters:\", elasticnet_best_params)\n",
    "print(\"ElasticNet 회귀 RMSE:\", elasticnet_rmse)\n",
    "print('R제곱 (Variance Score) : {0:.3f}'.format(r2_score(y_test, elasticnet_pred)))"
   ]
  },
  {
   "cell_type": "code",
   "execution_count": 138,
   "id": "cae4f2c7",
   "metadata": {},
   "outputs": [
    {
     "name": "stdout",
     "output_type": "stream",
     "text": [
      "5 Folds 교차검증 개별 Negative MSE scores: [-282.86 -460.99 -213.36 -252.4  -241.43]\n",
      "5 Folds 교차검증 개별 RMSE scores: [16.82 21.47 14.61 15.89 15.54]\n",
      "5 Folds 교차검증 평균 RMSE: 16.864\n"
     ]
    }
   ],
   "source": [
    "# 5-fold 교차 검증으로 MSE 구함\n",
    "neg_mse_scores = cross_val_score(elasticnet_best_model, X_train, y_train,\n",
    "                                 scoring='neg_mean_squared_error',\n",
    "                                 cv=5)\n",
    "\n",
    "# neg_mse: 음수값이므로 -1을 곱해서 사용\n",
    "# RMSE는 np.sqrt() 사용\n",
    "rmse_scores = np.sqrt(-1 * neg_mse_scores)\n",
    "avg_rmse = np.mean(rmse_scores)\n",
    "\n",
    "# 평가 지표 출력\n",
    "print('5 Folds 교차검증 개별 Negative MSE scores:', np.round(neg_mse_scores, 2))\n",
    "print('5 Folds 교차검증 개별 RMSE scores:', np.round(rmse_scores, 2))\n",
    "print('5 Folds 교차검증 평균 RMSE:', np.round(avg_rmse, 3))"
   ]
  }
 ],
 "metadata": {
  "kernelspec": {
   "display_name": "Python 3 (ipykernel)",
   "language": "python",
   "name": "python3"
  },
  "language_info": {
   "codemirror_mode": {
    "name": "ipython",
    "version": 3
   },
   "file_extension": ".py",
   "mimetype": "text/x-python",
   "name": "python",
   "nbconvert_exporter": "python",
   "pygments_lexer": "ipython3",
   "version": "3.10.9"
  }
 },
 "nbformat": 4,
 "nbformat_minor": 5
}
